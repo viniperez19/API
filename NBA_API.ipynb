{
 "cells": [
  {
   "cell_type": "markdown",
   "id": "a4b8ff14",
   "metadata": {},
   "source": [
    "<img src = \"https://www.pucsp.br/sites/default/files/download/brasao-PUCSP-assinatura-principal-RGB.png\" width=\"15%\"/>"
   ]
  },
  {
   "cell_type": "markdown",
   "id": "b4f85ee6",
   "metadata": {},
   "source": [
    "*Integrantes*\n",
    "\n",
    "<table align=\"left\">\n",
    "    <tr>\n",
    "        <td>Nome:</td>\n",
    "        <td><b>Beatriz Gil</b></td>\n",
    "        <td>RA:</td>\n",
    "        <td><b>RA00297693</b></td>\n",
    "    </tr>\n",
    "    <tr>\n",
    "        <td>Nome:</td>\n",
    "        <td><b>Lucas Gregorio</b></td>\n",
    "        <td>RA:</td>\n",
    "        <td><b>RA00297813</b></td>\n",
    "    </tr>\n",
    "    <tr>\n",
    "        <td>Nome:</td>\n",
    "        <td><b>Vinícius Perez</b></td>\n",
    "        <td>RA:</td>\n",
    "        <td><b>RA00297669</b></td>\n",
    "    </tr>\n",
    "</table>"
   ]
  },
  {
   "cell_type": "markdown",
   "id": "82cbcd69",
   "metadata": {},
   "source": [
    "# Bibliotecas"
   ]
  },
  {
   "cell_type": "code",
   "execution_count": 1,
   "id": "b43e06bc",
   "metadata": {},
   "outputs": [],
   "source": [
    "from flask import request,Response,Flask\n",
    "import os\n",
    "import sqlite3\n",
    "import pandas as pd"
   ]
  },
  {
   "cell_type": "markdown",
   "id": "c2d2bf85",
   "metadata": {},
   "source": [
    "# Funções principais que retornam um DF de cada tabela do SQL"
   ]
  },
  {
   "cell_type": "code",
   "execution_count": 2,
   "id": "125bdd97",
   "metadata": {},
   "outputs": [],
   "source": [
    "def Jogos():\n",
    "    conn = sqlite3.connect('basquete.db')\n",
    "    strSQL =\"SELECT* from Jogos\"\n",
    "    df = pd.read_sql_query(strSQL, conn)\n",
    "    conn.close()\n",
    "    return df\n",
    "\n",
    "def Teams():\n",
    "    conn = sqlite3.connect('basquete.db')\n",
    "    strSQL =\"SELECT* from Teams\"\n",
    "    df = pd.read_sql_query(strSQL, conn)\n",
    "    conn.close()\n",
    "    return df\n",
    "\n",
    "def Players():\n",
    "    conn = sqlite3.connect('basquete.db')\n",
    "    strSQL =\"SELECT* from Players\"\n",
    "    df = pd.read_sql_query(strSQL, conn)\n",
    "    conn.close()\n",
    "    return df\n",
    "\n",
    "def Info():\n",
    "    conn = sqlite3.connect('basquete.db')\n",
    "    strSQL =\"SELECT* from Info\"\n",
    "    df = pd.read_sql_query(strSQL, conn)\n",
    "    conn.close()\n",
    "    return df"
   ]
  },
  {
   "cell_type": "markdown",
   "id": "256c8d93",
   "metadata": {},
   "source": [
    "# Funções secundárias (pois não filtramos toda a tabela) que retornam um DF de cada tabela do SQL"
   ]
  },
  {
   "cell_type": "code",
   "execution_count": 3,
   "id": "9e6e7d15",
   "metadata": {},
   "outputs": [],
   "source": [
    "#Filtrando por Jogadores com idade menor ou igual a 30 anos e ativos na temporada de 2022\n",
    "def Age_Less_30():\n",
    "    conn = sqlite3.connect('basquete.db')\n",
    "    strSQL =\"\"\"SELECT Teams.abbreviation, Info.PLAYER, Info.Age, Info.SEASON, Info.POSITION\n",
    "               from Info\n",
    "               INNER JOIN Players on Players.PLAYER_ID = Info.idPlayer_IdFK\n",
    "               INNER JOIN Teams on Teams.TeamID = Info.idTeamIDFK\n",
    "               where Info.Age <=30 AND Players.is_active = 1\n",
    "               order by Info.Age DESC; \"\"\"\n",
    "    df = pd.read_sql_query(strSQL, conn)\n",
    "    return df\n",
    "\n",
    "#Filtrando por Jogadores com altura superior a 2 metros\n",
    "def Height_Greater_30():\n",
    "    conn = sqlite3.connect('basquete.db')\n",
    "    strSQL =\"\"\"SELECT Teams.abbreviation, Info.PLAYER, Info.HEIGHT, Info.SEASON, Info.POSITION\n",
    "               from Info\n",
    "               INNER JOIN Players on Players.PLAYER_ID = Info.idPlayer_IdFK\n",
    "               INNER JOIN Teams on Teams.TeamID = Info.idTeamIDFK\n",
    "               where Info.HEIGHT > 2 AND Players.is_active = 1\n",
    "               order by Info.HEIGHT DESC; \"\"\"\n",
    "    df = pd.read_sql_query(strSQL, conn)\n",
    "    return df\n",
    "\n",
    "#Ordenando do maior pro menor, os times que tiveram a maior soma de pontos durante o torneio de 2022\n",
    "def Sort_Sum_PTS():\n",
    "    conn = sqlite3.connect('basquete.db')\n",
    "    strSQL =\"\"\"SELECT Teams.TeamID, Teams.abbreviation, Teams.city, Teams.state, Teams.year_founded, SUM(Jogos.PTS) as sum_PTS\n",
    "               from Teams\n",
    "               INNER JOIN Jogos on Jogos.idTeamIDFK = Teams.TeamID\n",
    "               group by Teams.abbreviation\n",
    "               order by sum_PTS DESC; \"\"\"\n",
    "    df = pd.read_sql_query(strSQL, conn)\n",
    "    return df\n",
    "\n",
    "#Comparação da quatidade de Players Ativos e Inativos na Temporada de 2022\n",
    "def Players_Active_NoActive():\n",
    "    conn = sqlite3.connect('basquete.db')\n",
    "    strSQL =\"\"\"SELECT COUNT(CASE when is_active = 1 THEN 1 END) AS QTD_Players_ATIVOS, \n",
    "                      COUNT(CASE when is_active = 0 THEN 1 END) AS QTD_Players_INATIVOS\n",
    "               FROM Players; \"\"\"\n",
    "    df = pd.read_sql_query(strSQL, conn)\n",
    "    return df\n",
    "\n",
    "#Ordenando do maior pro menor, os times com a maior quantidade de vitórias em 2022 e a quantidade de derrotas\n",
    "def Jogos_Win_Loss():\n",
    "    conn = sqlite3.connect('basquete.db')\n",
    "    strSQL =\"\"\"SELECT abbreviation, COUNT(CASE when Jogos.WL = 'W' THEN 1 END) as QTD_Wins,\n",
    "                                    COUNT(CASE when Jogos.WL = 'L' THEN 1 END) as QTD_Loss\n",
    "               from Teams\n",
    "               INNER JOIN Jogos on Jogos.idTeamIDFK = Teams.TeamID\n",
    "               group by Teams.abbreviation\n",
    "               order by QTD_Wins DESC; \"\"\"\n",
    "    df = pd.read_sql_query(strSQL, conn)\n",
    "    return df\n",
    "\n",
    "#Qual jogador pertence a cada time\n",
    "def Player_Teams():\n",
    "    conn = sqlite3.connect('basquete.db')\n",
    "    strSQL =\"\"\"SELECT Info.PLAYER, Teams.abbreviation, Teams.team_name \n",
    "               from Info\n",
    "               INNER JOIN Teams on Info.idTeamIDFK = Teams.TeamID\n",
    "               order by abbreviation ASC; \"\"\"\n",
    "    df = pd.read_sql_query(strSQL, conn)\n",
    "    return df"
   ]
  },
  {
   "cell_type": "markdown",
   "id": "a5f816b0",
   "metadata": {},
   "source": [
    "# criar uma instância do objeto Flask"
   ]
  },
  {
   "cell_type": "code",
   "execution_count": 4,
   "id": "eef10998",
   "metadata": {},
   "outputs": [],
   "source": [
    "API = Flask(__name__)"
   ]
  },
  {
   "cell_type": "markdown",
   "id": "61420931",
   "metadata": {},
   "source": [
    "# Retorna as funções criadas e retorna um Json (no caso a API)"
   ]
  },
  {
   "cell_type": "code",
   "execution_count": 5,
   "id": "ea2a0a27",
   "metadata": {},
   "outputs": [],
   "source": [
    "#Capa\n",
    "@API.route('/')\n",
    "def home():\n",
    "    saudacao = \"<div style='display:flex; flex-direction:column; align-items:center;'>\"\n",
    "    saudacao += \"<h1 style='font-size: 35px; font-family: 'Cooper Black', serif; color: black; text-align:center;'>BEM VINDOS A NOSSA API DA NBA!</h1>\"\n",
    "    saudacao += \"<div style='display:flex; justify-content: space-between; align-items:center; width: 105%;'>\"\n",
    "    saudacao += \"</a>\"\n",
    "    saudacao += \"<img src='https://cdn.wallpapersafari.com/39/69/XfbzIN.png' alt='Imagem de fundo da NBA' style='width:100%;'>\"\n",
    "    saudacao += \"</div>\"\n",
    "    saudacao += \"</div>\"\n",
    "    return saudacao\n",
    "\n",
    "#Tabela Jogos\n",
    "@API.route(\"/Jogos\",methods=['GET'])\n",
    "def getJogos():\n",
    "    df = Jogos()\n",
    "    return Response(df.to_json(orient=\"records\"), mimetype='application/json')\n",
    "\n",
    "#Tabela Teams\n",
    "@API.route(\"/Teams\",methods=['GET'])\n",
    "def getTeams():\n",
    "    df = Teams()\n",
    "    return Response(df.to_json(orient=\"records\"), mimetype='application/json')\n",
    "\n",
    "#Tabela Players\n",
    "@API.route(\"/Players\",methods=['GET'])\n",
    "def getPlayers():\n",
    "    df = Players()\n",
    "    return Response(df.to_json(orient=\"records\"), mimetype='application/json')\n",
    "\n",
    "#Tabela Info\n",
    "@API.route(\"/Info\",methods=['GET'])\n",
    "def getInfo():\n",
    "    df = Info()\n",
    "    return Response(df.to_json(orient=\"records\"), mimetype='application/json')\n",
    "\n",
    "#Tabela Age_Less_30\n",
    "@API.route(\"/Age_Less_30\",methods=['GET'])\n",
    "def get_Age_Less_30():\n",
    "    df = Age_Less_30()\n",
    "    return Response(df.to_json(orient=\"records\"), mimetype='application/json')\n",
    "\n",
    "#Tabela Height_Greater_30\n",
    "@API.route(\"/Height_Greater_30\",methods=['GET'])\n",
    "def get_Height_Greater_30():\n",
    "    df = Height_Greater_30()\n",
    "    return Response(df.to_json(orient=\"records\"), mimetype='application/json')\n",
    "\n",
    "#Tabela Sort_Sum_PTS\n",
    "@API.route(\"/Sort_Sum_PTS\",methods=['GET'])\n",
    "def get_Sort_Sum_PTS():\n",
    "    df = Sort_Sum_PTS()\n",
    "    return Response(df.to_json(orient=\"records\"), mimetype='application/json') \n",
    "\n",
    "#Players_Active_NoActive\n",
    "@API.route(\"/Players_Active_NoActive\",methods=['GET'])\n",
    "def get_Players_Active_NoActive():\n",
    "    df = Players_Active_NoActive()\n",
    "    return Response(df.to_json(orient=\"records\"), mimetype='application/json')\n",
    "\n",
    "#Jogos_Win_Loss\n",
    "@API.route(\"/Jogos_Win_Loss\",methods=['GET'])\n",
    "def get_Jogos_Win_Loss():\n",
    "    df = Jogos_Win_Loss()\n",
    "    return Response(df.to_json(orient=\"records\"), mimetype='application/json')\n",
    "\n",
    "#Jogos_Win_Loss\n",
    "@API.route(\"/Player_Teams\",methods=['GET'])\n",
    "def get_Player_Teams():\n",
    "    df = Player_Teams()\n",
    "    return Response(df.to_json(orient=\"records\"), mimetype='application/json')"
   ]
  },
  {
   "cell_type": "markdown",
   "id": "0966cd98",
   "metadata": {},
   "source": [
    "# Executa o servidor Flask"
   ]
  },
  {
   "cell_type": "code",
   "execution_count": null,
   "id": "58d63209",
   "metadata": {},
   "outputs": [
    {
     "name": "stdout",
     "output_type": "stream",
     "text": [
      " * Serving Flask app '__main__'\n",
      " * Debug mode: off\n"
     ]
    },
    {
     "name": "stderr",
     "output_type": "stream",
     "text": [
      "\u001b[31m\u001b[1mWARNING: This is a development server. Do not use it in a production deployment. Use a production WSGI server instead.\u001b[0m\n",
      " * Running on all addresses (0.0.0.0)\n",
      " * Running on http://127.0.0.1:4320\n",
      " * Running on http://192.168.0.33:4320\n",
      "\u001b[33mPress CTRL+C to quit\u001b[0m\n",
      "127.0.0.1 - - [23/Apr/2023 21:51:54] \"GET / HTTP/1.1\" 200 -\n",
      "127.0.0.1 - - [23/Apr/2023 21:51:56] \"GET / HTTP/1.1\" 200 -\n",
      "127.0.0.1 - - [23/Apr/2023 21:52:08] \"GET /Player_Teams HTTP/1.1\" 200 -\n",
      "127.0.0.1 - - [23/Apr/2023 21:52:11] \"GET /Player_Teams HTTP/1.1\" 200 -\n"
     ]
    }
   ],
   "source": [
    "if __name__==\"__main__\":\n",
    "    API.run(host=os.getenv('IP', '0.0.0.0'), \n",
    "            port=int(os.getenv('PORT', 4320)))"
   ]
  },
  {
   "cell_type": "code",
   "execution_count": null,
   "id": "cfbcf4e0",
   "metadata": {},
   "outputs": [],
   "source": []
  }
 ],
 "metadata": {
  "kernelspec": {
   "display_name": "Python 3 (ipykernel)",
   "language": "python",
   "name": "python3"
  },
  "language_info": {
   "codemirror_mode": {
    "name": "ipython",
    "version": 3
   },
   "file_extension": ".py",
   "mimetype": "text/x-python",
   "name": "python",
   "nbconvert_exporter": "python",
   "pygments_lexer": "ipython3",
   "version": "3.11.1"
  }
 },
 "nbformat": 4,
 "nbformat_minor": 5
}
